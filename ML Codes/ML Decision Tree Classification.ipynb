{
 "cells": [
  {
   "cell_type": "code",
   "execution_count": 2,
   "id": "f483e4fe",
   "metadata": {},
   "outputs": [],
   "source": [
    "import pandas as pd\n",
    "import numpy as np\n",
    "import math\n",
    "import matplotlib.pyplot as plt\n",
    "import seaborn as sns\n",
    "%matplotlib inline\n",
    "import os\n",
    "pd.set_option(\"display.max_columns\", 50)"
   ]
  },
  {
   "cell_type": "code",
   "execution_count": 3,
   "id": "45553274",
   "metadata": {},
   "outputs": [],
   "source": [
    "df = pd.read_excel('WQ_updated_with_WQI.xlsx')"
   ]
  },
  {
   "cell_type": "code",
   "execution_count": 4,
   "id": "66b209d8",
   "metadata": {},
   "outputs": [
    {
     "data": {
      "text/html": [
       "<div>\n",
       "<style scoped>\n",
       "    .dataframe tbody tr th:only-of-type {\n",
       "        vertical-align: middle;\n",
       "    }\n",
       "\n",
       "    .dataframe tbody tr th {\n",
       "        vertical-align: top;\n",
       "    }\n",
       "\n",
       "    .dataframe thead th {\n",
       "        text-align: right;\n",
       "    }\n",
       "</style>\n",
       "<table border=\"1\" class=\"dataframe\">\n",
       "  <thead>\n",
       "    <tr style=\"text-align: right;\">\n",
       "      <th></th>\n",
       "      <th>WRIS ID</th>\n",
       "      <th>PH</th>\n",
       "      <th>EC</th>\n",
       "      <th>TOT_ALKALINITY</th>\n",
       "      <th>CA</th>\n",
       "      <th>MG</th>\n",
       "      <th>NA</th>\n",
       "      <th>FE</th>\n",
       "      <th>CHLORIDE</th>\n",
       "      <th>SULPHATE</th>\n",
       "      <th>NITRATE</th>\n",
       "      <th>FLUORIDE</th>\n",
       "      <th>TDS</th>\n",
       "      <th>Total_hardness</th>\n",
       "      <th>WQI</th>\n",
       "      <th>GRADE</th>\n",
       "      <th>QUALITY</th>\n",
       "    </tr>\n",
       "  </thead>\n",
       "  <tbody>\n",
       "    <tr>\n",
       "      <th>0</th>\n",
       "      <td>W23881</td>\n",
       "      <td>8.34</td>\n",
       "      <td>355.0</td>\n",
       "      <td>160.0</td>\n",
       "      <td>22.0</td>\n",
       "      <td>18.225</td>\n",
       "      <td>25.70</td>\n",
       "      <td>1.288</td>\n",
       "      <td>17.725</td>\n",
       "      <td>3.21</td>\n",
       "      <td>3.63</td>\n",
       "      <td>0.37</td>\n",
       "      <td>217.748</td>\n",
       "      <td>129.7225</td>\n",
       "      <td>52.765156</td>\n",
       "      <td>C</td>\n",
       "      <td>Poor</td>\n",
       "    </tr>\n",
       "    <tr>\n",
       "      <th>1</th>\n",
       "      <td>W38814</td>\n",
       "      <td>8.46</td>\n",
       "      <td>596.0</td>\n",
       "      <td>205.0</td>\n",
       "      <td>14.0</td>\n",
       "      <td>20.655</td>\n",
       "      <td>75.67</td>\n",
       "      <td>0.125</td>\n",
       "      <td>38.995</td>\n",
       "      <td>46.22</td>\n",
       "      <td>2.46</td>\n",
       "      <td>0.24</td>\n",
       "      <td>360.745</td>\n",
       "      <td>119.6855</td>\n",
       "      <td>81.601765</td>\n",
       "      <td>D</td>\n",
       "      <td>Very poor</td>\n",
       "    </tr>\n",
       "    <tr>\n",
       "      <th>2</th>\n",
       "      <td>W24111</td>\n",
       "      <td>8.24</td>\n",
       "      <td>429.0</td>\n",
       "      <td>150.0</td>\n",
       "      <td>10.0</td>\n",
       "      <td>32.805</td>\n",
       "      <td>23.32</td>\n",
       "      <td>0.183</td>\n",
       "      <td>31.905</td>\n",
       "      <td>24.15</td>\n",
       "      <td>0.06</td>\n",
       "      <td>0.68</td>\n",
       "      <td>243.370</td>\n",
       "      <td>159.5005</td>\n",
       "      <td>60.979152</td>\n",
       "      <td>C</td>\n",
       "      <td>Poor</td>\n",
       "    </tr>\n",
       "    <tr>\n",
       "      <th>3</th>\n",
       "      <td>W38806</td>\n",
       "      <td>8.21</td>\n",
       "      <td>1077.0</td>\n",
       "      <td>165.0</td>\n",
       "      <td>18.0</td>\n",
       "      <td>70.470</td>\n",
       "      <td>85.95</td>\n",
       "      <td>0.120</td>\n",
       "      <td>124.075</td>\n",
       "      <td>47.48</td>\n",
       "      <td>184.20</td>\n",
       "      <td>0.16</td>\n",
       "      <td>681.918</td>\n",
       "      <td>333.9270</td>\n",
       "      <td>153.279010</td>\n",
       "      <td>E</td>\n",
       "      <td>Unsuitable</td>\n",
       "    </tr>\n",
       "    <tr>\n",
       "      <th>4</th>\n",
       "      <td>W38807</td>\n",
       "      <td>8.17</td>\n",
       "      <td>394.0</td>\n",
       "      <td>135.0</td>\n",
       "      <td>14.0</td>\n",
       "      <td>34.020</td>\n",
       "      <td>15.24</td>\n",
       "      <td>0.648</td>\n",
       "      <td>38.995</td>\n",
       "      <td>8.22</td>\n",
       "      <td>0.30</td>\n",
       "      <td>0.62</td>\n",
       "      <td>233.172</td>\n",
       "      <td>174.4820</td>\n",
       "      <td>57.871346</td>\n",
       "      <td>C</td>\n",
       "      <td>Poor</td>\n",
       "    </tr>\n",
       "  </tbody>\n",
       "</table>\n",
       "</div>"
      ],
      "text/plain": [
       "  WRIS ID    PH      EC  TOT_ALKALINITY    CA      MG     NA     FE  CHLORIDE  \\\n",
       "0  W23881  8.34   355.0           160.0  22.0  18.225  25.70  1.288    17.725   \n",
       "1  W38814  8.46   596.0           205.0  14.0  20.655  75.67  0.125    38.995   \n",
       "2  W24111  8.24   429.0           150.0  10.0  32.805  23.32  0.183    31.905   \n",
       "3  W38806  8.21  1077.0           165.0  18.0  70.470  85.95  0.120   124.075   \n",
       "4  W38807  8.17   394.0           135.0  14.0  34.020  15.24  0.648    38.995   \n",
       "\n",
       "   SULPHATE  NITRATE  FLUORIDE      TDS  Total_hardness         WQI GRADE  \\\n",
       "0      3.21     3.63      0.37  217.748        129.7225   52.765156     C   \n",
       "1     46.22     2.46      0.24  360.745        119.6855   81.601765     D   \n",
       "2     24.15     0.06      0.68  243.370        159.5005   60.979152     C   \n",
       "3     47.48   184.20      0.16  681.918        333.9270  153.279010     E   \n",
       "4      8.22     0.30      0.62  233.172        174.4820   57.871346     C   \n",
       "\n",
       "      QUALITY  \n",
       "0        Poor  \n",
       "1   Very poor  \n",
       "2        Poor  \n",
       "3  Unsuitable  \n",
       "4        Poor  "
      ]
     },
     "execution_count": 4,
     "metadata": {},
     "output_type": "execute_result"
    }
   ],
   "source": [
    "df.head()"
   ]
  },
  {
   "cell_type": "code",
   "execution_count": 5,
   "id": "1556fcfa",
   "metadata": {},
   "outputs": [
    {
     "data": {
      "text/plain": [
       "0       C\n",
       "1       D\n",
       "2       C\n",
       "3       E\n",
       "4       C\n",
       "       ..\n",
       "2260    B\n",
       "2261    A\n",
       "2262    B\n",
       "2263    A\n",
       "2264    A\n",
       "Name: GRADE, Length: 2265, dtype: object"
      ]
     },
     "execution_count": 5,
     "metadata": {},
     "output_type": "execute_result"
    }
   ],
   "source": [
    "df_x = df.drop(columns = ['WRIS ID', 'WQI', 'GRADE', 'QUALITY'])\n",
    "df_x\n",
    "df_y = df['GRADE']\n",
    "df_y"
   ]
  },
  {
   "cell_type": "code",
   "execution_count": 6,
   "id": "9fca47ae",
   "metadata": {},
   "outputs": [],
   "source": [
    "from sklearn.tree import DecisionTreeClassifier\n",
    "dtree = DecisionTreeClassifier()"
   ]
  },
  {
   "cell_type": "code",
   "execution_count": 7,
   "id": "59cbad46",
   "metadata": {},
   "outputs": [],
   "source": [
    "from sklearn.model_selection import train_test_split\n",
    "from sklearn.model_selection import GridSearchCV\n",
    "from sklearn.metrics import classification_report,confusion_matrix, accuracy_score"
   ]
  },
  {
   "cell_type": "code",
   "execution_count": 8,
   "id": "e8cefd68",
   "metadata": {},
   "outputs": [],
   "source": [
    "X_train, X_test, y_train, y_test = train_test_split(df_x, df_y, test_size=0.3, random_state=101)"
   ]
  },
  {
   "cell_type": "code",
   "execution_count": 9,
   "id": "80cc1418",
   "metadata": {},
   "outputs": [
    {
     "name": "stdout",
     "output_type": "stream",
     "text": [
      "Fitting 5 folds for each of 12 candidates, totalling 60 fits\n",
      "[CV 1/5] END criterion=gini, max_features=auto, splitter=best; total time=   0.0s\n",
      "[CV 2/5] END criterion=gini, max_features=auto, splitter=best; total time=   0.0s\n",
      "[CV 3/5] END criterion=gini, max_features=auto, splitter=best; total time=   0.0s\n",
      "[CV 4/5] END criterion=gini, max_features=auto, splitter=best; total time=   0.0s\n",
      "[CV 5/5] END criterion=gini, max_features=auto, splitter=best; total time=   0.0s\n",
      "[CV 1/5] END criterion=gini, max_features=auto, splitter=random; total time=   0.0s\n",
      "[CV 2/5] END criterion=gini, max_features=auto, splitter=random; total time=   0.0s\n",
      "[CV 3/5] END criterion=gini, max_features=auto, splitter=random; total time=   0.0s\n",
      "[CV 4/5] END criterion=gini, max_features=auto, splitter=random; total time=   0.0s\n",
      "[CV 5/5] END criterion=gini, max_features=auto, splitter=random; total time=   0.0s\n",
      "[CV 1/5] END criterion=gini, max_features=sqrt, splitter=best; total time=   0.0s\n",
      "[CV 2/5] END criterion=gini, max_features=sqrt, splitter=best; total time=   0.0s\n",
      "[CV 3/5] END criterion=gini, max_features=sqrt, splitter=best; total time=   0.0s\n",
      "[CV 4/5] END criterion=gini, max_features=sqrt, splitter=best; total time=   0.0s\n",
      "[CV 5/5] END criterion=gini, max_features=sqrt, splitter=best; total time=   0.0s\n",
      "[CV 1/5] END criterion=gini, max_features=sqrt, splitter=random; total time=   0.0s\n",
      "[CV 2/5] END criterion=gini, max_features=sqrt, splitter=random; total time=   0.0s\n",
      "[CV 3/5] END criterion=gini, max_features=sqrt, splitter=random; total time=   0.0s\n",
      "[CV 4/5] END criterion=gini, max_features=sqrt, splitter=random; total time=   0.0s\n",
      "[CV 5/5] END criterion=gini, max_features=sqrt, splitter=random; total time=   0.0s\n",
      "[CV 1/5] END criterion=gini, max_features=log2, splitter=best; total time=   0.0s\n",
      "[CV 2/5] END criterion=gini, max_features=log2, splitter=best; total time=   0.0s\n",
      "[CV 3/5] END criterion=gini, max_features=log2, splitter=best; total time=   0.0s\n",
      "[CV 4/5] END criterion=gini, max_features=log2, splitter=best; total time=   0.0s\n",
      "[CV 5/5] END criterion=gini, max_features=log2, splitter=best; total time=   0.0s\n",
      "[CV 1/5] END criterion=gini, max_features=log2, splitter=random; total time=   0.0s\n",
      "[CV 2/5] END criterion=gini, max_features=log2, splitter=random; total time=   0.0s\n",
      "[CV 3/5] END criterion=gini, max_features=log2, splitter=random; total time=   0.0s\n",
      "[CV 4/5] END criterion=gini, max_features=log2, splitter=random; total time=   0.0s\n",
      "[CV 5/5] END criterion=gini, max_features=log2, splitter=random; total time=   0.0s\n",
      "[CV 1/5] END criterion=entropy, max_features=auto, splitter=best; total time=   0.0s\n",
      "[CV 2/5] END criterion=entropy, max_features=auto, splitter=best; total time=   0.0s\n",
      "[CV 3/5] END criterion=entropy, max_features=auto, splitter=best; total time=   0.0s\n",
      "[CV 4/5] END criterion=entropy, max_features=auto, splitter=best; total time=   0.0s\n",
      "[CV 5/5] END criterion=entropy, max_features=auto, splitter=best; total time=   0.0s\n",
      "[CV 1/5] END criterion=entropy, max_features=auto, splitter=random; total time=   0.0s\n",
      "[CV 2/5] END criterion=entropy, max_features=auto, splitter=random; total time=   0.0s\n",
      "[CV 3/5] END criterion=entropy, max_features=auto, splitter=random; total time=   0.0s\n",
      "[CV 4/5] END criterion=entropy, max_features=auto, splitter=random; total time=   0.0s\n",
      "[CV 5/5] END criterion=entropy, max_features=auto, splitter=random; total time=   0.0s\n",
      "[CV 1/5] END criterion=entropy, max_features=sqrt, splitter=best; total time=   0.0s\n",
      "[CV 2/5] END criterion=entropy, max_features=sqrt, splitter=best; total time=   0.0s\n",
      "[CV 3/5] END criterion=entropy, max_features=sqrt, splitter=best; total time=   0.0s\n",
      "[CV 4/5] END criterion=entropy, max_features=sqrt, splitter=best; total time=   0.0s\n",
      "[CV 5/5] END criterion=entropy, max_features=sqrt, splitter=best; total time=   0.0s\n",
      "[CV 1/5] END criterion=entropy, max_features=sqrt, splitter=random; total time=   0.0s\n",
      "[CV 2/5] END criterion=entropy, max_features=sqrt, splitter=random; total time=   0.0s\n",
      "[CV 3/5] END criterion=entropy, max_features=sqrt, splitter=random; total time=   0.0s\n",
      "[CV 4/5] END criterion=entropy, max_features=sqrt, splitter=random; total time=   0.0s\n",
      "[CV 5/5] END criterion=entropy, max_features=sqrt, splitter=random; total time=   0.0s\n",
      "[CV 1/5] END criterion=entropy, max_features=log2, splitter=best; total time=   0.0s\n",
      "[CV 2/5] END criterion=entropy, max_features=log2, splitter=best; total time=   0.0s\n",
      "[CV 3/5] END criterion=entropy, max_features=log2, splitter=best; total time=   0.0s\n",
      "[CV 4/5] END criterion=entropy, max_features=log2, splitter=best; total time=   0.0s\n",
      "[CV 5/5] END criterion=entropy, max_features=log2, splitter=best; total time=   0.0s\n",
      "[CV 1/5] END criterion=entropy, max_features=log2, splitter=random; total time=   0.0s\n",
      "[CV 2/5] END criterion=entropy, max_features=log2, splitter=random; total time=   0.0s\n",
      "[CV 3/5] END criterion=entropy, max_features=log2, splitter=random; total time=   0.0s\n",
      "[CV 4/5] END criterion=entropy, max_features=log2, splitter=random; total time=   0.0s\n",
      "[CV 5/5] END criterion=entropy, max_features=log2, splitter=random; total time=   0.0s\n"
     ]
    },
    {
     "data": {
      "text/plain": [
       "GridSearchCV(cv=5, estimator=DecisionTreeClassifier(),\n",
       "             param_grid=[{'criterion': ['gini', 'entropy'],\n",
       "                          'max_features': ['auto', 'sqrt', 'log2'],\n",
       "                          'splitter': ['best', 'random']}],\n",
       "             scoring='accuracy', verbose=3)"
      ]
     },
     "execution_count": 9,
     "metadata": {},
     "output_type": "execute_result"
    }
   ],
   "source": [
    "params_dtree = [{'criterion': ['gini', 'entropy'], 'splitter': ['best', 'random'], \n",
    "                 'max_features': ['auto', 'sqrt', 'log2']}]\n",
    "dtree_gs = GridSearchCV(dtree, params_dtree, cv=5, verbose=3, scoring='accuracy')\n",
    "\n",
    "dtree_gs.fit(X_train, y_train)"
   ]
  },
  {
   "cell_type": "code",
   "execution_count": 10,
   "id": "1eb0ddb4",
   "metadata": {},
   "outputs": [
    {
     "name": "stdout",
     "output_type": "stream",
     "text": [
      "{'criterion': 'gini', 'max_features': 'sqrt', 'splitter': 'best'}\n"
     ]
    }
   ],
   "source": [
    "#save best model\n",
    "dtree_best = dtree_gs.best_estimator_\n",
    "print(dtree_gs.best_params_)"
   ]
  },
  {
   "cell_type": "code",
   "execution_count": 11,
   "id": "747fd0ba",
   "metadata": {},
   "outputs": [
    {
     "name": "stdout",
     "output_type": "stream",
     "text": [
      "0.9308823529411765\n"
     ]
    },
    {
     "data": {
      "text/html": [
       "<div>\n",
       "<style scoped>\n",
       "    .dataframe tbody tr th:only-of-type {\n",
       "        vertical-align: middle;\n",
       "    }\n",
       "\n",
       "    .dataframe tbody tr th {\n",
       "        vertical-align: top;\n",
       "    }\n",
       "\n",
       "    .dataframe thead th {\n",
       "        text-align: right;\n",
       "    }\n",
       "</style>\n",
       "<table border=\"1\" class=\"dataframe\">\n",
       "  <thead>\n",
       "    <tr style=\"text-align: right;\">\n",
       "      <th>col_0</th>\n",
       "      <th>A</th>\n",
       "      <th>B</th>\n",
       "      <th>C</th>\n",
       "      <th>D</th>\n",
       "      <th>E</th>\n",
       "    </tr>\n",
       "    <tr>\n",
       "      <th>GRADE</th>\n",
       "      <th></th>\n",
       "      <th></th>\n",
       "      <th></th>\n",
       "      <th></th>\n",
       "      <th></th>\n",
       "    </tr>\n",
       "  </thead>\n",
       "  <tbody>\n",
       "    <tr>\n",
       "      <th>A</th>\n",
       "      <td>25</td>\n",
       "      <td>4</td>\n",
       "      <td>0</td>\n",
       "      <td>0</td>\n",
       "      <td>0</td>\n",
       "    </tr>\n",
       "    <tr>\n",
       "      <th>B</th>\n",
       "      <td>3</td>\n",
       "      <td>76</td>\n",
       "      <td>4</td>\n",
       "      <td>0</td>\n",
       "      <td>0</td>\n",
       "    </tr>\n",
       "    <tr>\n",
       "      <th>C</th>\n",
       "      <td>0</td>\n",
       "      <td>9</td>\n",
       "      <td>65</td>\n",
       "      <td>8</td>\n",
       "      <td>0</td>\n",
       "    </tr>\n",
       "    <tr>\n",
       "      <th>D</th>\n",
       "      <td>0</td>\n",
       "      <td>0</td>\n",
       "      <td>5</td>\n",
       "      <td>51</td>\n",
       "      <td>0</td>\n",
       "    </tr>\n",
       "    <tr>\n",
       "      <th>E</th>\n",
       "      <td>0</td>\n",
       "      <td>0</td>\n",
       "      <td>0</td>\n",
       "      <td>14</td>\n",
       "      <td>416</td>\n",
       "    </tr>\n",
       "  </tbody>\n",
       "</table>\n",
       "</div>"
      ],
      "text/plain": [
       "col_0   A   B   C   D    E\n",
       "GRADE                     \n",
       "A      25   4   0   0    0\n",
       "B       3  76   4   0    0\n",
       "C       0   9  65   8    0\n",
       "D       0   0   5  51    0\n",
       "E       0   0   0  14  416"
      ]
     },
     "execution_count": 11,
     "metadata": {},
     "output_type": "execute_result"
    }
   ],
   "source": [
    "pred_dtree = dtree_best.predict(X_test)\n",
    "print(accuracy_score(y_test,pred_dtree))\n",
    "pd.crosstab(y_test,pred_dtree) "
   ]
  },
  {
   "cell_type": "markdown",
   "id": "fe122556",
   "metadata": {},
   "source": [
    "### Applying SMOTE to tackle imbalanced data"
   ]
  },
  {
   "cell_type": "code",
   "execution_count": 12,
   "id": "2eee8ebe",
   "metadata": {},
   "outputs": [],
   "source": [
    "from imblearn.over_sampling import SMOTE\n",
    "sm = SMOTE()"
   ]
  },
  {
   "cell_type": "code",
   "execution_count": 13,
   "id": "94586967",
   "metadata": {},
   "outputs": [],
   "source": [
    "X_train_sm, y_train_sm = sm.fit_resample(X_train.astype('float'),y_train)"
   ]
  },
  {
   "cell_type": "code",
   "execution_count": 14,
   "id": "6076f2f3",
   "metadata": {},
   "outputs": [
    {
     "name": "stdout",
     "output_type": "stream",
     "text": [
      "Before SMOTE : Counter({'E': 1007, 'C': 173, 'B': 170, 'D': 150, 'A': 85})\n",
      "After SMOTE : Counter({'E': 1007, 'C': 1007, 'D': 1007, 'B': 1007, 'A': 1007})\n"
     ]
    }
   ],
   "source": [
    "from collections import Counter\n",
    "print(\"Before SMOTE :\" , Counter(y_train))\n",
    "print(\"After SMOTE :\" , Counter(y_train_sm))"
   ]
  },
  {
   "cell_type": "code",
   "execution_count": 15,
   "id": "872539c3",
   "metadata": {},
   "outputs": [
    {
     "name": "stdout",
     "output_type": "stream",
     "text": [
      "Fitting 5 folds for each of 12 candidates, totalling 60 fits\n",
      "[CV 1/5] END criterion=gini, max_features=auto, splitter=best; total time=   0.0s\n",
      "[CV 2/5] END criterion=gini, max_features=auto, splitter=best; total time=   0.0s\n",
      "[CV 3/5] END criterion=gini, max_features=auto, splitter=best; total time=   0.0s\n",
      "[CV 4/5] END criterion=gini, max_features=auto, splitter=best; total time=   0.0s\n",
      "[CV 5/5] END criterion=gini, max_features=auto, splitter=best; total time=   0.0s\n",
      "[CV 1/5] END criterion=gini, max_features=auto, splitter=random; total time=   0.0s\n",
      "[CV 2/5] END criterion=gini, max_features=auto, splitter=random; total time=   0.0s\n",
      "[CV 3/5] END criterion=gini, max_features=auto, splitter=random; total time=   0.0s\n",
      "[CV 4/5] END criterion=gini, max_features=auto, splitter=random; total time=   0.0s\n",
      "[CV 5/5] END criterion=gini, max_features=auto, splitter=random; total time=   0.0s\n",
      "[CV 1/5] END criterion=gini, max_features=sqrt, splitter=best; total time=   0.0s\n",
      "[CV 2/5] END criterion=gini, max_features=sqrt, splitter=best; total time=   0.0s\n",
      "[CV 3/5] END criterion=gini, max_features=sqrt, splitter=best; total time=   0.0s\n",
      "[CV 4/5] END criterion=gini, max_features=sqrt, splitter=best; total time=   0.0s\n",
      "[CV 5/5] END criterion=gini, max_features=sqrt, splitter=best; total time=   0.0s\n",
      "[CV 1/5] END criterion=gini, max_features=sqrt, splitter=random; total time=   0.0s\n",
      "[CV 2/5] END criterion=gini, max_features=sqrt, splitter=random; total time=   0.0s\n",
      "[CV 3/5] END criterion=gini, max_features=sqrt, splitter=random; total time=   0.0s\n",
      "[CV 4/5] END criterion=gini, max_features=sqrt, splitter=random; total time=   0.0s\n",
      "[CV 5/5] END criterion=gini, max_features=sqrt, splitter=random; total time=   0.0s\n",
      "[CV 1/5] END criterion=gini, max_features=log2, splitter=best; total time=   0.0s\n",
      "[CV 2/5] END criterion=gini, max_features=log2, splitter=best; total time=   0.0s\n",
      "[CV 3/5] END criterion=gini, max_features=log2, splitter=best; total time=   0.0s\n",
      "[CV 4/5] END criterion=gini, max_features=log2, splitter=best; total time=   0.0s\n",
      "[CV 5/5] END criterion=gini, max_features=log2, splitter=best; total time=   0.0s\n",
      "[CV 1/5] END criterion=gini, max_features=log2, splitter=random; total time=   0.0s\n",
      "[CV 2/5] END criterion=gini, max_features=log2, splitter=random; total time=   0.0s\n",
      "[CV 3/5] END criterion=gini, max_features=log2, splitter=random; total time=   0.0s\n",
      "[CV 4/5] END criterion=gini, max_features=log2, splitter=random; total time=   0.0s\n",
      "[CV 5/5] END criterion=gini, max_features=log2, splitter=random; total time=   0.0s\n",
      "[CV 1/5] END criterion=entropy, max_features=auto, splitter=best; total time=   0.0s\n",
      "[CV 2/5] END criterion=entropy, max_features=auto, splitter=best; total time=   0.0s\n",
      "[CV 3/5] END criterion=entropy, max_features=auto, splitter=best; total time=   0.0s\n",
      "[CV 4/5] END criterion=entropy, max_features=auto, splitter=best; total time=   0.0s\n",
      "[CV 5/5] END criterion=entropy, max_features=auto, splitter=best; total time=   0.0s\n",
      "[CV 1/5] END criterion=entropy, max_features=auto, splitter=random; total time=   0.0s\n",
      "[CV 2/5] END criterion=entropy, max_features=auto, splitter=random; total time=   0.0s\n",
      "[CV 3/5] END criterion=entropy, max_features=auto, splitter=random; total time=   0.0s\n",
      "[CV 4/5] END criterion=entropy, max_features=auto, splitter=random; total time=   0.0s\n",
      "[CV 5/5] END criterion=entropy, max_features=auto, splitter=random; total time=   0.0s\n",
      "[CV 1/5] END criterion=entropy, max_features=sqrt, splitter=best; total time=   0.0s\n",
      "[CV 2/5] END criterion=entropy, max_features=sqrt, splitter=best; total time=   0.0s\n",
      "[CV 3/5] END criterion=entropy, max_features=sqrt, splitter=best; total time=   0.0s\n",
      "[CV 4/5] END criterion=entropy, max_features=sqrt, splitter=best; total time=   0.0s\n",
      "[CV 5/5] END criterion=entropy, max_features=sqrt, splitter=best; total time=   0.0s\n",
      "[CV 1/5] END criterion=entropy, max_features=sqrt, splitter=random; total time=   0.0s\n",
      "[CV 2/5] END criterion=entropy, max_features=sqrt, splitter=random; total time=   0.0s\n",
      "[CV 3/5] END criterion=entropy, max_features=sqrt, splitter=random; total time=   0.0s\n",
      "[CV 4/5] END criterion=entropy, max_features=sqrt, splitter=random; total time=   0.0s\n",
      "[CV 5/5] END criterion=entropy, max_features=sqrt, splitter=random; total time=   0.0s\n",
      "[CV 1/5] END criterion=entropy, max_features=log2, splitter=best; total time=   0.0s\n",
      "[CV 2/5] END criterion=entropy, max_features=log2, splitter=best; total time=   0.0s\n",
      "[CV 3/5] END criterion=entropy, max_features=log2, splitter=best; total time=   0.0s\n",
      "[CV 4/5] END criterion=entropy, max_features=log2, splitter=best; total time=   0.0s\n",
      "[CV 5/5] END criterion=entropy, max_features=log2, splitter=best; total time=   0.0s\n",
      "[CV 1/5] END criterion=entropy, max_features=log2, splitter=random; total time=   0.0s\n",
      "[CV 2/5] END criterion=entropy, max_features=log2, splitter=random; total time=   0.0s\n",
      "[CV 3/5] END criterion=entropy, max_features=log2, splitter=random; total time=   0.0s\n",
      "[CV 4/5] END criterion=entropy, max_features=log2, splitter=random; total time=   0.0s\n",
      "[CV 5/5] END criterion=entropy, max_features=log2, splitter=random; total time=   0.0s\n"
     ]
    },
    {
     "data": {
      "text/plain": [
       "GridSearchCV(cv=5, estimator=DecisionTreeClassifier(),\n",
       "             param_grid=[{'criterion': ['gini', 'entropy'],\n",
       "                          'max_features': ['auto', 'sqrt', 'log2'],\n",
       "                          'splitter': ['best', 'random']}],\n",
       "             scoring='accuracy', verbose=3)"
      ]
     },
     "execution_count": 15,
     "metadata": {},
     "output_type": "execute_result"
    }
   ],
   "source": [
    "params_dtree = [{'criterion': ['gini', 'entropy'], 'splitter': ['best', 'random'], \n",
    "                 'max_features': ['auto', 'sqrt', 'log2']}]\n",
    "dtree_gs = GridSearchCV(dtree, params_dtree, cv=5, verbose=3, scoring='accuracy')\n",
    "\n",
    "dtree_gs.fit(X_train_sm, y_train_sm)"
   ]
  },
  {
   "cell_type": "code",
   "execution_count": 16,
   "id": "ad370800",
   "metadata": {},
   "outputs": [
    {
     "name": "stdout",
     "output_type": "stream",
     "text": [
      "{'criterion': 'gini', 'max_features': 'log2', 'splitter': 'best'}\n"
     ]
    }
   ],
   "source": [
    "#save best model\n",
    "dtree_best = dtree_gs.best_estimator_#check best n_estimators value\n",
    "print(dtree_gs.best_params_)"
   ]
  },
  {
   "cell_type": "code",
   "execution_count": 17,
   "id": "4f127480",
   "metadata": {},
   "outputs": [
    {
     "name": "stdout",
     "output_type": "stream",
     "text": [
      "0.9426470588235294\n"
     ]
    },
    {
     "data": {
      "text/html": [
       "<div>\n",
       "<style scoped>\n",
       "    .dataframe tbody tr th:only-of-type {\n",
       "        vertical-align: middle;\n",
       "    }\n",
       "\n",
       "    .dataframe tbody tr th {\n",
       "        vertical-align: top;\n",
       "    }\n",
       "\n",
       "    .dataframe thead th {\n",
       "        text-align: right;\n",
       "    }\n",
       "</style>\n",
       "<table border=\"1\" class=\"dataframe\">\n",
       "  <thead>\n",
       "    <tr style=\"text-align: right;\">\n",
       "      <th>col_0</th>\n",
       "      <th>A</th>\n",
       "      <th>B</th>\n",
       "      <th>C</th>\n",
       "      <th>D</th>\n",
       "      <th>E</th>\n",
       "    </tr>\n",
       "    <tr>\n",
       "      <th>GRADE</th>\n",
       "      <th></th>\n",
       "      <th></th>\n",
       "      <th></th>\n",
       "      <th></th>\n",
       "      <th></th>\n",
       "    </tr>\n",
       "  </thead>\n",
       "  <tbody>\n",
       "    <tr>\n",
       "      <th>A</th>\n",
       "      <td>25</td>\n",
       "      <td>4</td>\n",
       "      <td>0</td>\n",
       "      <td>0</td>\n",
       "      <td>0</td>\n",
       "    </tr>\n",
       "    <tr>\n",
       "      <th>B</th>\n",
       "      <td>4</td>\n",
       "      <td>75</td>\n",
       "      <td>4</td>\n",
       "      <td>0</td>\n",
       "      <td>0</td>\n",
       "    </tr>\n",
       "    <tr>\n",
       "      <th>C</th>\n",
       "      <td>0</td>\n",
       "      <td>6</td>\n",
       "      <td>70</td>\n",
       "      <td>6</td>\n",
       "      <td>0</td>\n",
       "    </tr>\n",
       "    <tr>\n",
       "      <th>D</th>\n",
       "      <td>0</td>\n",
       "      <td>0</td>\n",
       "      <td>2</td>\n",
       "      <td>52</td>\n",
       "      <td>2</td>\n",
       "    </tr>\n",
       "    <tr>\n",
       "      <th>E</th>\n",
       "      <td>0</td>\n",
       "      <td>0</td>\n",
       "      <td>1</td>\n",
       "      <td>10</td>\n",
       "      <td>419</td>\n",
       "    </tr>\n",
       "  </tbody>\n",
       "</table>\n",
       "</div>"
      ],
      "text/plain": [
       "col_0   A   B   C   D    E\n",
       "GRADE                     \n",
       "A      25   4   0   0    0\n",
       "B       4  75   4   0    0\n",
       "C       0   6  70   6    0\n",
       "D       0   0   2  52    2\n",
       "E       0   0   1  10  419"
      ]
     },
     "execution_count": 17,
     "metadata": {},
     "output_type": "execute_result"
    }
   ],
   "source": [
    "pred_dtree = dtree_best.predict(X_test)\n",
    "print(accuracy_score(y_test,pred_dtree))\n",
    "pd.crosstab(y_test,pred_dtree) "
   ]
  },
  {
   "cell_type": "code",
   "execution_count": 18,
   "id": "769e4cc0",
   "metadata": {},
   "outputs": [
    {
     "name": "stdout",
     "output_type": "stream",
     "text": [
      "              precision    recall  f1-score   support\n",
      "\n",
      "           A       0.86      0.86      0.86        29\n",
      "           B       0.88      0.90      0.89        83\n",
      "           C       0.91      0.85      0.88        82\n",
      "           D       0.76      0.93      0.84        56\n",
      "           E       1.00      0.97      0.98       430\n",
      "\n",
      "    accuracy                           0.94       680\n",
      "   macro avg       0.88      0.90      0.89       680\n",
      "weighted avg       0.95      0.94      0.94       680\n",
      "\n"
     ]
    }
   ],
   "source": [
    "print(classification_report(y_test,pred_dtree))"
   ]
  },
  {
   "cell_type": "markdown",
   "id": "e3f9e9d5",
   "metadata": {},
   "source": [
    "### Evaluating the model"
   ]
  },
  {
   "cell_type": "code",
   "execution_count": 19,
   "id": "8e96802e",
   "metadata": {},
   "outputs": [],
   "source": [
    "random_prob = [0 for _ in range(len(y_test))]\n",
    "dtree_probs = dtree_best.predict_proba(X_test)"
   ]
  },
  {
   "cell_type": "code",
   "execution_count": 20,
   "id": "f09aa0e2",
   "metadata": {},
   "outputs": [],
   "source": [
    "import scikitplot as skplt"
   ]
  },
  {
   "cell_type": "code",
   "execution_count": 22,
   "id": "5a850a2a",
   "metadata": {},
   "outputs": [
    {
     "data": {
      "image/png": "[encoded data removed]",
      "text/plain": [
       "<Figure size 576x432 with 1 Axes>"
      ]
     },
     "metadata": {
      "needs_background": "light"
     },
     "output_type": "display_data"
    }
   ],
   "source": [
    "skplt.metrics.plot_roc(y_true=y_test, y_probas=dtree_probs, figsize=(8,6), cmap = 'gnuplot', text_fontsize=12,\n",
    "                       title_fontsize=16,plot_micro=False,plot_macro=False)\n",
    "plt.xlim(-0.01,1)\n",
    "plt.show()"
   ]
  },
  {
   "cell_type": "code",
   "execution_count": null,
   "id": "324500e3",
   "metadata": {},
   "outputs": [],
   "source": []
  }
 ],
 "metadata": {
  "kernelspec": {
   "display_name": "Python 3",
   "language": "python",
   "name": "python3"
  },
  "language_info": {
   "codemirror_mode": {
    "name": "ipython",
    "version": 3
   },
   "file_extension": ".py",
   "mimetype": "text/x-python",
   "name": "python",
   "nbconvert_exporter": "python",
   "pygments_lexer": "ipython3",
   "version": "3.8.8"
  }
 },
 "nbformat": 4,
 "nbformat_minor": 5
}
